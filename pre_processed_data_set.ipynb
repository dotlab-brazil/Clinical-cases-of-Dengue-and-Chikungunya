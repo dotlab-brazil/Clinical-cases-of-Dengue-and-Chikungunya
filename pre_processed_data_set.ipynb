{
 "cells": [
  {
   "cell_type": "markdown",
   "id": "f509c9f0",
   "metadata": {},
   "source": [
    "# Clinical cases of Dengue and Chikungunya - 2015-2020\n",
    "\n",
    "This data set presents clinical and sociodemographic information of confirmed patients of Dengue and Chikungunya, as well as patients cases discarded from these same diseases. The data were accounted for two databases, the first is from the Health Problem and Notification Information System, from Portuguese Sistema de Informação de Agravo de Notificação (SINAN), that occurred in the state of Amazonas, from 2015 to 2020; The second if from Dados Recife, an open data portal of the city Recife, in the state of Pernambuco, also from 2015 to 2020. The data set has 17,172 records and 27 attributes.\n",
    "\n",
    "The data set has a dictionary that can be seen in the links below, in Portuguese:\n",
    "- [common and sociodemographic data](http://portalsinan.saude.gov.br/images/documentos/Agravos/Notificacao_Individual/DIC_DADOS_NET---Notificao-Individual_rev.pdf)\n",
    "- [clinical and laboratory data](http://portalsinan.saude.gov.br/images/documentos/Agravos/Dengue/DIC_DADOS_ONLINE.pdf)\n",
    "\n",
    "The data set resulting from this project can be found [at this link](https://data.mendeley.com/datasets/2d3kr8zynf/2)."
   ]
  },
  {
   "cell_type": "markdown",
   "id": "251ae921",
   "metadata": {},
   "source": [
    "## Imports and data uploads\n",
    "\n",
    "Libraries needed for code execution."
   ]
  },
  {
   "cell_type": "code",
   "execution_count": null,
   "id": "bb531a5f",
   "metadata": {},
   "outputs": [],
   "source": [
    "# Imports\n",
    "import pandas as pd\n",
    "import numpy as np\n",
    "import statsmodels.api as sm\n",
    "from collections import Counter  #Counter of classes\n",
    "from imblearn.under_sampling import RandomUnderSampler  #UnderSampler\n",
    "\n",
    "# Path where the original data set is located\n",
    "path_data_sinan = \"path_to_sinan_data_in_your_computer\"\n",
    "path_data_recife = \"path_to_recife_data_in_your_computer\"\n",
    "\n",
    "path_save = \"path_to_save_the_data_in_your_computer\"\n",
    "\n",
    "sinan_df = pd.read_csv(path_data_sinan)\n",
    "recife_df = pd.read_csv(path_data_recife)"
   ]
  },
  {
   "cell_type": "markdown",
   "id": "7e83d09f",
   "metadata": {},
   "source": [
    "## Reading Data sets"
   ]
  },
  {
   "cell_type": "markdown",
   "id": "740a2418",
   "metadata": {},
   "source": [
    "### Recife-db\n",
    "recife-db originally has a different nomenclature than the database of sinan-db, however, in the data dictionary it is possible to see both nomenclatures, so first the columns of recife-db were renamed to their corresponding counterpart in sinan-db"
   ]
  },
  {
   "cell_type": "code",
   "execution_count": null,
   "id": "ed66c947",
   "metadata": {},
   "outputs": [],
   "source": [
    "columns = {\n",
    "    \"nu_notificacao\": \"NU_NOTIFIC\",\n",
    "    \"tp_notificacao\": \"TP_NOT\",\n",
    "    \"dt_notificacao\": \"DT_NOTIFIC\",\n",
    "    \"ds_semana_notificacao\": \"SEM_NOT\",\n",
    "    \"notificacao_ano\": \"NU_ANO\",\n",
    "    \"co_uf_notificacao\": \"SG_UF_NOT\",\n",
    "    \"co_municipio_notificacao\": \"ID_MUNICIP\",\n",
    "    \"id_regional\": \"ID_REGIONA\",\n",
    "    \"co_unidade_notificacao\": \"ID_UNIDADE\",\n",
    "    \"dt_diagnostico_sintoma\": \"DT_SIN_PRI\",\n",
    "    \"ds_semana_sintoma\": \"SEM_PRI\",\n",
    "    \"dt_nascimento\": \"DT_NASC\",\n",
    "    \"nu_idade\": \"NU_IDADE_N\",\n",
    "    \"tp_sexo\": \"CS_SEXO\",\n",
    "    \"tp_gestante\": \"CS_GESTANT\",\n",
    "    \"tp_raca_cor\": \"CS_RACA\",\n",
    "    \"tp_escolaridade\": \"CS_ESCOL_N\",\n",
    "    \"co_uf_residencia\": \"SG_UF\",\n",
    "    \"co_municipio_residencia\": \"ID_MN_RESI\",\n",
    "    \"co_regional_residencia\": \"ID_RG_RESI\",\n",
    "    \"co_distrito_residencia\": \"ID_DISTRIT\",\n",
    "    \"co_bairro_residencia\": \"ID_BAIRRO\",\n",
    "    \"no_bairro_residencia\": \"NM_BAIRRO\",\n",
    "    \"tp_zona_residencia\": \"CS_ZONA\",\n",
    "    \"co_pais_residencia\": \"ID_PAIS\",\n",
    "    \"dt_investigacao\": \"DT_INVEST\",\n",
    "    \"co_cbo_ocupacao\": \"ID_OCUPA_N\",\n",
    "    \"febre\": \"FEBRE\",\n",
    "    \"mialgia\": \"MIALGIA\",\n",
    "    \"cefaleia\": \"CEFALEIA\",\n",
    "    \"exantema\": \"EXANTEMA\",\n",
    "    \"vomito\": \"VOMITO\",\n",
    "    \"nausea\": \"NAUSEA\",\n",
    "    \"dor_costas\": \"DOR_COSTAS\",\n",
    "    \"conjutivite\": \"CONJUNTVIT\",\n",
    "    \"artrite\": \"ARTRITE\",\n",
    "    \"artralgia\": \"ARTRALGIA\",\n",
    "    \"petequia_n\": \"PETEQUIA_N\",\n",
    "    \"leucopenia\": \"LEUCOPENIA\",\n",
    "    \"laco\": \"LACO\",\n",
    "    \"dor_retro\": \"DOR_RETRO\",\n",
    "    \"diabetes\": \"DIABETES\",\n",
    "    \"hematolog\": \"HEMATOLOG\",\n",
    "    \"hepatopat\": \"HEPATOPAT\",\n",
    "    \"renal\": \"RENAL\",\n",
    "    \"hipertensao\": \"HIPERTENSA\",\n",
    "    \"acido_pept\": \"ACIDO_PEPT\",\n",
    "    \"auto_imune\": \"AUTO_IMUNE\",\n",
    "    \"dt_chil_s1\": \"DT_CHIK_S1\",\n",
    "    \"dt_chil_s2\": \"DT_CHIK_S2\",\n",
    "    \"dt_prnt\": \"DT_PRNT\",\n",
    "    \"res_chiks1\": \"RES_CHIKS1\",\n",
    "    \"res_chiks2\": \"RES_CHIKS2\",\n",
    "    \"resul_prnt\": \"RESUL_PRNT\",\n",
    "    \"dt_coleta_exame\": \"DT_SORO\",\n",
    "    \"tp_result_exame\": \"RESUL_SORO\",\n",
    "    \"dt_coleta_NS1\": \"DT_NS1\",\n",
    "    \"Tp_result_NS1\": \"RESUL_NS1\",\n",
    "    \"dt_coleta_isolamento\": \"DT_VIRAL\",\n",
    "    \"tp_result_isolamento\": \"RESUL_VI_N\",\n",
    "    \"dt_coleta_rtpcr\": \"DT_PCR\",\n",
    "    \"tp_result_rtpcr\": \"RESUL_PCR_\",\n",
    "    \"tp_sorotipo\": \"SOROTIPO\",\n",
    "    \"tp_result_histopatologia\": \"HISTOPA_N\",\n",
    "    \"tp_result_imunohistoquimica\": \"IMUNOH_N\",\n",
    "    \"st_ocorreu_hospitalizacao\": \"HOSPITALIZ\",\n",
    "    \"dt_internacao\": \"DT_INTERNA\",\n",
    "    \"co_uf_hospital\": \"UF\",\n",
    "    \"co_municipio_hospital\": \"MUNICIPIO\",\n",
    "    \"tp_autoctone_residencia\": \"TPAUTOCTO\",\n",
    "    \"co_uf_infeccao\": \"COUFINF\",\n",
    "    \"co_pais_infeccao\": \"COPAISINF\",\n",
    "    \"co_municipio_infeccao\": \"COMUNINF\",\n",
    "    \"co_distrito_infeccao\": \"CODISINF\",\n",
    "    \"co_bairro_infeccao\": \"CO_BAINF\",\n",
    "    \"no_bairro_infeccao\": \"NOBAIINF\",\n",
    "    \"tp_classificacao_final\": \"CLASSI_FIN\",\n",
    "    \"tp_criterio_confirmacao\": \"CRITERIO\",\n",
    "    \"st_doenca_trabalho\": \"DOENCA_TRA\",\n",
    "    \"clinc_chik\": \"CLINC_CHIK\",\n",
    "    \"tp_evolucao_caso\": \"EVOLUCAO\",\n",
    "    \"dt_obito\": \"DT_OBITO\",\n",
    "    \"dt_encerramento\": \"DT_ENCERRA\",\n",
    "    \"alrm_hipot\": \"ALRM_HIPOT\",\n",
    "    \"alrm_plaq\": \"ALRM_PLAQ\",\n",
    "    \"alrm_vom\": \"ALRM_VOM\",\n",
    "    \"alrm_sang\": \"ALRM_SANG\",\n",
    "    \"alrm_hemat\": \"ALRM_HEMAT\",\n",
    "    \"alrm_abdom\": \"ALRM_ABDOM\",\n",
    "    \"alrm_letar\": \"ALRM_LETAR\",\n",
    "    \"alrm_hepat\": \"ALRM_HEPAT\",\n",
    "    \"alrm_liq\": \"ALRM_LIQ\",\n",
    "    \"dt_alrm\": \"DT_ALRM\",\n",
    "    \"grav_pulso\": \"GRAV_PULSO\",\n",
    "    \"grav_conv\": \"GRAV_CONV\",\n",
    "    \"grav_ench\": \"GRAV_ENCH\",\n",
    "    \"grav_insuf\": \"GRAV_INSUF\",\n",
    "    \"grav_taqui\": \"GRAV_TAQUI\",\n",
    "    \"grav_extre\": \"GRAV_EXTRE\",\n",
    "    \"grav_hipot\": \"GRAV_HIPOT\",\n",
    "    \"grav_hemat\": \"GRAV_HEMAT\",\n",
    "    \"grav_melen\": \"GRAV_MELEN\",\n",
    "    \"grav_metro\": \"GRAV_METRO\",\n",
    "    \"grav_sang\": \"GRAV_SANG\",\n",
    "    \"grav_ast\": \"GRAV_AST\",\n",
    "    \"grav_mioc\": \"GRAV_MIOC\",\n",
    "    \"grav_consc\": \"GRAV_CONSC\",\n",
    "    \"grav_orgao\": \"GRAV_ORGAO\",\n",
    "    \"dt_grav\": \"DT_GRAV\",\n",
    "    \"mami_hemor\": \"MANI_HEMOR\",\n",
    "    \"epistaxe\": \"EPISTAXE\",\n",
    "    \"gengivo\": \"GENGIVO\",\n",
    "    \"metro\": \"METRO\",\n",
    "    \"petequias\": \"PETEQUIAS\",\n",
    "    \"hematura\": \"HEMATURA\",\n",
    "    \"sangram\": \"SANGRAM\",\n",
    "    \"laco_n\": \"LACO_N\",\n",
    "    \"plasmatico\": \"PLASMATICO\",\n",
    "    \"evidencia\": \"EVIDENCIA\",\n",
    "    \"plaq_menor\": \"PLAQ_MENOR\",\n",
    "    \"complica\": \"COMPLICA\"\n",
    "}\n",
    "\n",
    "recife_df.rename(columns=columns, inplace=True)\n",
    "recife_df.head()"
   ]
  },
  {
   "cell_type": "markdown",
   "id": "ec350084",
   "metadata": {},
   "source": [
    "## Unification of the two data sets"
   ]
  },
  {
   "cell_type": "code",
   "execution_count": null,
   "id": "6ba227a8",
   "metadata": {},
   "outputs": [],
   "source": [
    "df = pd.concat([sinan_df, recife_df], join='inner')\n",
    "df.head()"
   ]
  },
  {
   "cell_type": "markdown",
   "id": "5253b256",
   "metadata": {},
   "source": [
    "## Removal of empty lines\n",
    "Some lines do not have any information about the patients' symptoms, so we decided to remove them, as the symptoms are the most important information of the work."
   ]
  },
  {
   "cell_type": "code",
   "execution_count": null,
   "id": "e71ca4c8",
   "metadata": {},
   "outputs": [],
   "source": [
    "# We used only the FEVER column as a basis, as we realized that when one symptom is missing, all are missing.\n",
    "df.dropna(subset=['FEBRE'], how='any', inplace=True)"
   ]
  },
  {
   "cell_type": "markdown",
   "id": "e66bdb40",
   "metadata": {},
   "source": [
    "## Removal of empty columns\n",
    "Columns that have more than 50% of the data null have been removed."
   ]
  },
  {
   "cell_type": "code",
   "execution_count": null,
   "id": "aa1a993a",
   "metadata": {
    "code_folding": [
     0
    ]
   },
   "outputs": [],
   "source": [
    "empty_columns = [\n",
    "    'ID_DISTRIT',\n",
    "    'ID_OCUPA_N',\n",
    "    'DT_CHIK_S1',\n",
    "    'DT_CHIK_S2',\n",
    "    'DT_PRNT',\n",
    "    'RESUL_PRNT',\n",
    "    'DT_SORO',\n",
    "    'DT_NS1',\n",
    "    'DT_VIRAL',\n",
    "    'DT_PCR',\n",
    "    'RESUL_PCR_',\n",
    "    'SOROTIPO',\n",
    "    'HISTOPA_N',\n",
    "    'IMUNOH_N',\n",
    "    'DT_INTERNA',\n",
    "    'UF',\n",
    "    'MUNICIPIO',\n",
    "    'TPAUTOCTO',\n",
    "    'COUFINF',\n",
    "    'COPAISINF',\n",
    "    'COMUNINF',\n",
    "    'CODISINF',\n",
    "    'CO_BAINF',\n",
    "    'NOBAIINF',\n",
    "    'DOENCA_TRA',\n",
    "    'DT_OBITO',\n",
    "    'ALRM_HIPOT',\n",
    "    'ALRM_PLAQ',\n",
    "    'ALRM_VOM',\n",
    "    'ALRM_SANG',\n",
    "    'ALRM_HEMAT',\n",
    "    'ALRM_ABDOM',\n",
    "    'ALRM_LETAR',\n",
    "    'ALRM_HEPAT',\n",
    "    'ALRM_LIQ',\n",
    "    'DT_ALRM',\n",
    "    'DT_GRAV',\n",
    "    'EPISTAXE',\n",
    "    'GENGIVO',\n",
    "    'METRO',\n",
    "    'PETEQUIAS',\n",
    "    'HEMATURA',\n",
    "    'SANGRAM',\n",
    "    'LACO_N',\n",
    "    'PLASMATICO',\n",
    "    'EVIDENCIA',\n",
    "    'PLAQ_MENOR',\n",
    "    'COMPLICA',\n",
    "    'DT_CHIK_S1',\n",
    "]\n",
    "\n",
    "df.drop(columns=empty_columns, inplace=True)\n",
    "df.head()"
   ]
  },
  {
   "cell_type": "markdown",
   "id": "9df94a17",
   "metadata": {},
   "source": [
    "## Removing unimportant columns\n",
    "Columns that have information that will not be important:\n",
    "\n",
    "* IDs;\n",
    "* Constant Columns (Location, Grievance, etc.)\n",
    "* Admission and departure date\n",
    "* etc"
   ]
  },
  {
   "cell_type": "code",
   "execution_count": null,
   "id": "7e7d2555",
   "metadata": {},
   "outputs": [],
   "source": [
    "unimportant_columns = [\n",
    "    'NU_NOTIFIC', 'TP_NOT', 'SG_UF_NOT', 'ID_MUNICIP', 'ID_REGIONA', 'SEM_NOT',\n",
    "    'NU_ANO', 'ID_UNIDADE', 'SEM_PRI', 'DT_NASC', 'CS_ESCOL_N', 'SG_UF',\n",
    "    'ID_MN_RESI', 'ID_RG_RESI', 'ID_BAIRRO', 'NM_BAIRRO', 'ID_PAIS',\n",
    "    'DT_INVEST', 'CRITERIO', 'EVOLUCAO', 'DT_ENCERRA', 'GRAV_PULSO',\n",
    "    'GRAV_CONV', 'GRAV_ENCH', 'GRAV_INSUF', 'GRAV_TAQUI', 'GRAV_EXTRE',\n",
    "    'GRAV_HIPOT', 'GRAV_HEMAT', 'GRAV_MELEN', 'GRAV_METRO', 'GRAV_SANG',\n",
    "    'GRAV_AST', 'GRAV_MIOC', 'GRAV_CONSC', 'GRAV_ORGAO', 'HOSPITALIZ',\n",
    "    'RESUL_NS1', 'RESUL_VI_N', 'RES_CHIKS1', 'RES_CHIKS2', 'RESUL_SORO',\n",
    "    'CLINC_CHIK'\n",
    "]\n",
    "\n",
    "df.drop(columns=unimportant_columns, inplace=True)\n",
    "df.head()"
   ]
  },
  {
   "cell_type": "markdown",
   "id": "e4c97ef6",
   "metadata": {},
   "source": [
    "## Data transformation"
   ]
  },
  {
   "cell_type": "code",
   "execution_count": null,
   "id": "7cce522e",
   "metadata": {},
   "outputs": [],
   "source": [
    "# Categorization of the collumn\n",
    "df.loc[df['CS_SEXO'] == \"F\", 'CS_SEXO'] = 0\n",
    "df.loc[df['CS_SEXO'] == \"M\", 'CS_SEXO'] = 1\n",
    "df.loc[df['CS_SEXO'] == \"I\", 'CS_SEXO'] = 2\n",
    "\n",
    "# Creating and filling in the Days column\n",
    "# Columns filled in by the difference between symptom onset date and treatment date\n",
    "# After this step, theese columns were also removed\n",
    "df['DIAS'] = 0\n",
    "df['DT_NOTIFIC'] = pd.to_datetime(df['DT_NOTIFIC'], dayfirst=True)\n",
    "df['DT_SIN_PRI'] = pd.to_datetime(df['DT_SIN_PRI'], dayfirst=True)\n",
    "df['DIAS'] = df['DT_NOTIFIC'] - df['DT_SIN_PRI']\n",
    "df.drop(columns=['DT_NOTIFIC', 'DT_SIN_PRI'], inplace=True)"
   ]
  },
  {
   "cell_type": "markdown",
   "id": "4476eb54",
   "metadata": {},
   "source": [
    "## Filling in null values\n",
    "Columns that still had null values were filled with the value corresponding to \"unfilled\" entered in the dictionary."
   ]
  },
  {
   "cell_type": "code",
   "execution_count": null,
   "id": "dad64f27",
   "metadata": {},
   "outputs": [],
   "source": [
    "for name in df.columns:\n",
    "    df.loc[df[name].isnull(), name] = 9"
   ]
  },
  {
   "cell_type": "markdown",
   "id": "75270572",
   "metadata": {},
   "source": [
    "## Standardization of results in the output target\n",
    "The CLASSI_FIN column has different values for the same disease, the values were grouped for the same type according to the disease."
   ]
  },
  {
   "cell_type": "code",
   "execution_count": null,
   "id": "382367c0",
   "metadata": {},
   "outputs": [],
   "source": [
    "# DENGUE\n",
    "# 1  - Classic Dengue\n",
    "# 2  - Dengue with complications\n",
    "# 10 - Dengue\n",
    "# 11 - Dengue with warning signs\n",
    "# 12 - Severe Dengue\n",
    "df.loc[df['CLASSI_FIN'] == 1, 'CLASSI_FIN'] = 'DENGUE'\n",
    "df.loc[df['CLASSI_FIN'] == 2, 'CLASSI_FIN'] = 'DENGUE'\n",
    "df.loc[df['CLASSI_FIN'] == 10, 'CLASSI_FIN'] = 'DENGUE'\n",
    "df.loc[df['CLASSI_FIN'] == 11, 'CLASSI_FIN'] = 'DENGUE'\n",
    "df.loc[df['CLASSI_FIN'] == 12, 'CLASSI_FIN'] = 'DENGUE'\n",
    "\n",
    "# CHIKUNGUNYA\n",
    "# 13 - Chikungunya\n",
    "df.loc[df['CLASSI_FIN'] == 13, 'CLASSI_FIN'] = 'CHIKUNGUNYA'\n",
    "\n",
    "# OTHER\n",
    "# 5 - Discarded\n",
    "# 8 - Inconclusive\n",
    "df.loc[df['CLASSI_FIN'] == 5, 'CLASSI_FIN'] = 'OTHER'\n",
    "df.loc[df['CLASSI_FIN'] == 8, 'CLASSI_FIN'] = 'OTHER'"
   ]
  },
  {
   "cell_type": "markdown",
   "id": "9a662310",
   "metadata": {},
   "source": [
    "## Applying the undersampling\n",
    "Applying the undersampling technique to balance the data."
   ]
  },
  {
   "cell_type": "code",
   "execution_count": null,
   "id": "3f9f2aa3",
   "metadata": {},
   "outputs": [],
   "source": [
    "# Shows that the data set is unbalanced\n",
    "print(Counter(df.CLASSI_FIN))\n",
    "\n",
    "X = df.drop('CLASSI_FIN', axis=1)\n",
    "Y = df.CLASSI_FIN\n",
    "X = np.array(X)\n",
    "Y = np.array(Y)\n",
    "\n",
    "# define undersample strategy\n",
    "undersample = RandomUnderSampler(sampling_strategy='not minority')\n",
    "# fit and apply the transform\n",
    "X_under, y_under = undersample.fit_resample(X, Y)\n",
    "# summarize class distribution\n",
    "print(Counter(y_under))\n",
    "\n",
    "# Transforming the undersampling base into a dataframe to save the csv\n",
    "\n",
    "myData = np.c_[X_under, y_under]\n",
    "columns = df.drop('CLASSI_FIN', axis=1).columns.tolist()\n",
    "columns.append('CLASSI_FIN')\n",
    "\n",
    "df = pd.DataFrame(data=myData, columns=columns)\n",
    "df"
   ]
  },
  {
   "cell_type": "markdown",
   "id": "762b43db",
   "metadata": {},
   "source": [
    "## Saving data set"
   ]
  },
  {
   "cell_type": "code",
   "execution_count": null,
   "id": "2348c59e",
   "metadata": {},
   "outputs": [],
   "source": [
    "df.to_csv(path_save + 'data_set.csv', sep=';', index=False)"
   ]
  }
 ],
 "metadata": {
  "kernelspec": {
   "display_name": "Python 3 (ipykernel)",
   "language": "python",
   "name": "python3"
  },
  "language_info": {
   "codemirror_mode": {
    "name": "ipython",
    "version": 3
   },
   "file_extension": ".py",
   "mimetype": "text/x-python",
   "name": "python",
   "nbconvert_exporter": "python",
   "pygments_lexer": "ipython3",
   "version": "3.8.8"
  },
  "varInspector": {
   "cols": {
    "lenName": 16,
    "lenType": 16,
    "lenVar": 40
   },
   "kernels_config": {
    "python": {
     "delete_cmd_postfix": "",
     "delete_cmd_prefix": "del ",
     "library": "var_list.py",
     "varRefreshCmd": "print(var_dic_list())"
    },
    "r": {
     "delete_cmd_postfix": ") ",
     "delete_cmd_prefix": "rm(",
     "library": "var_list.r",
     "varRefreshCmd": "cat(var_dic_list()) "
    }
   },
   "types_to_exclude": [
    "module",
    "function",
    "builtin_function_or_method",
    "instance",
    "_Feature"
   ],
   "window_display": false
  }
 },
 "nbformat": 4,
 "nbformat_minor": 5
}
